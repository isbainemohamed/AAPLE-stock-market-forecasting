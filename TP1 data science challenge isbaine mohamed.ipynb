{
 "cells": [
  {
   "cell_type": "markdown",
   "metadata": {
    "id": "8S0CoCBumKwV"
   },
   "source": [
    "# Ta-Lib suite of financial data indicators"
   ]
  },
  {
   "cell_type": "code",
   "execution_count": 3,
   "metadata": {
    "id": "Dn0N0hgRUGvB"
   },
   "outputs": [],
   "source": [
    "%%capture\n",
    "\n",
    "import warnings\n",
    "warnings.filterwarnings(\"ignore\")\n",
    "\n",
    "# Data analysis and processing\n",
    "import pandas as pd \n",
    "import numpy as np\n",
    "import matplotlib.pyplot as plt #Chart Drawing Kit\n",
    "import datetime #Time Processing Suite\n",
    "import talib\n",
    "import mplfinance as mpf\n",
    "\n",
    "# WebCrawler\n",
    "import pandas_datareader.data as web\n",
    "import yfinance as yf  # Yahoo Finance\n",
    "\n",
    "# Data normalization \n",
    "from sklearn.preprocessing import MinMaxScaler  \n",
    "\n",
    "\n",
    "# Keras & sklearn imports\n",
    "from keras.models import Sequential\n",
    "from keras.layers import Dense,Dropout,LSTM\n",
    "from keras.callbacks import EarlyStopping\n",
    "\n",
    "\n",
    "from math import sqrt\n",
    "from keras.utils.vis_utils import plot_model   # plot_model \n",
    "from sklearn.metrics import r2_score,mean_absolute_error,mean_squared_error"
   ]
  },
  {
   "cell_type": "code",
   "execution_count": 4,
   "metadata": {
    "colab": {
     "base_uri": "https://localhost:8080/",
     "height": 472
    },
    "id": "jE327Tc3V81x",
    "outputId": "4b7adb0b-b25a-4d6a-c9b1-837b141fa9c6"
   },
   "outputs": [
    {
     "name": "stdout",
     "output_type": "stream",
     "text": [
      "[*********************100%***********************]  1 of 1 completed\n"
     ]
    },
    {
     "data": {
      "text/html": [
       "<div>\n",
       "<style scoped>\n",
       "    .dataframe tbody tr th:only-of-type {\n",
       "        vertical-align: middle;\n",
       "    }\n",
       "\n",
       "    .dataframe tbody tr th {\n",
       "        vertical-align: top;\n",
       "    }\n",
       "\n",
       "    .dataframe thead th {\n",
       "        text-align: right;\n",
       "    }\n",
       "</style>\n",
       "<table border=\"1\" class=\"dataframe\">\n",
       "  <thead>\n",
       "    <tr style=\"text-align: right;\">\n",
       "      <th></th>\n",
       "      <th>Open</th>\n",
       "      <th>High</th>\n",
       "      <th>Low</th>\n",
       "      <th>Close</th>\n",
       "      <th>Adj Close</th>\n",
       "      <th>Volume</th>\n",
       "    </tr>\n",
       "    <tr>\n",
       "      <th>Date</th>\n",
       "      <th></th>\n",
       "      <th></th>\n",
       "      <th></th>\n",
       "      <th></th>\n",
       "      <th></th>\n",
       "      <th></th>\n",
       "    </tr>\n",
       "  </thead>\n",
       "  <tbody>\n",
       "    <tr>\n",
       "      <th>2018-04-02</th>\n",
       "      <td>82.849998</td>\n",
       "      <td>82.949997</td>\n",
       "      <td>82.150002</td>\n",
       "      <td>82.250000</td>\n",
       "      <td>82.250000</td>\n",
       "      <td>3737299</td>\n",
       "    </tr>\n",
       "    <tr>\n",
       "      <th>2018-04-03</th>\n",
       "      <td>81.500000</td>\n",
       "      <td>81.550003</td>\n",
       "      <td>81.199997</td>\n",
       "      <td>81.500000</td>\n",
       "      <td>81.500000</td>\n",
       "      <td>6187523</td>\n",
       "    </tr>\n",
       "    <tr>\n",
       "      <th>2018-04-09</th>\n",
       "      <td>82.150002</td>\n",
       "      <td>82.300003</td>\n",
       "      <td>81.599998</td>\n",
       "      <td>82.199997</td>\n",
       "      <td>82.199997</td>\n",
       "      <td>3401430</td>\n",
       "    </tr>\n",
       "  </tbody>\n",
       "</table>\n",
       "</div>"
      ],
      "text/plain": [
       "                 Open       High        Low      Close  Adj Close   Volume\n",
       "Date                                                                      \n",
       "2018-04-02  82.849998  82.949997  82.150002  82.250000  82.250000  3737299\n",
       "2018-04-03  81.500000  81.550003  81.199997  81.500000  81.500000  6187523\n",
       "2018-04-09  82.150002  82.300003  81.599998  82.199997  82.199997  3401430"
      ]
     },
     "execution_count": 4,
     "metadata": {},
     "output_type": "execute_result"
    }
   ],
   "source": [
    "start = datetime.datetime(2018,4,1) \n",
    "end = datetime.datetime(2021,7,30) \n",
    "df = yf.download('0050.TW', start, end) \n",
    "\n",
    "df.head(3)"
   ]
  },
  {
   "cell_type": "code",
   "execution_count": 5,
   "metadata": {
    "colab": {
     "base_uri": "https://localhost:8080/",
     "height": 1000
    },
    "id": "HAYetl54acSZ",
    "outputId": "5aa07d8e-44a6-41af-eb31-32c744c21cfb"
   },
   "outputs": [
    {
     "name": "stdout",
     "output_type": "stream",
     "text": [
      "[*********************100%***********************]  1 of 1 completed\n"
     ]
    },
    {
     "data": {
      "text/html": [
       "<div>\n",
       "<style scoped>\n",
       "    .dataframe tbody tr th:only-of-type {\n",
       "        vertical-align: middle;\n",
       "    }\n",
       "\n",
       "    .dataframe tbody tr th {\n",
       "        vertical-align: top;\n",
       "    }\n",
       "\n",
       "    .dataframe thead th {\n",
       "        text-align: right;\n",
       "    }\n",
       "</style>\n",
       "<table border=\"1\" class=\"dataframe\">\n",
       "  <thead>\n",
       "    <tr style=\"text-align: right;\">\n",
       "      <th></th>\n",
       "      <th>Open</th>\n",
       "      <th>High</th>\n",
       "      <th>Low</th>\n",
       "      <th>Close</th>\n",
       "      <th>Adj Close</th>\n",
       "      <th>Volume</th>\n",
       "    </tr>\n",
       "    <tr>\n",
       "      <th>Date</th>\n",
       "      <th></th>\n",
       "      <th></th>\n",
       "      <th></th>\n",
       "      <th></th>\n",
       "      <th></th>\n",
       "      <th></th>\n",
       "    </tr>\n",
       "  </thead>\n",
       "  <tbody>\n",
       "    <tr>\n",
       "      <th>2022-09-23</th>\n",
       "      <td>110.250000</td>\n",
       "      <td>110.349998</td>\n",
       "      <td>109.349998</td>\n",
       "      <td>109.699997</td>\n",
       "      <td>109.699997</td>\n",
       "      <td>14598986</td>\n",
       "    </tr>\n",
       "    <tr>\n",
       "      <th>2022-09-26</th>\n",
       "      <td>108.050003</td>\n",
       "      <td>108.050003</td>\n",
       "      <td>107.150002</td>\n",
       "      <td>107.650002</td>\n",
       "      <td>107.650002</td>\n",
       "      <td>19920826</td>\n",
       "    </tr>\n",
       "    <tr>\n",
       "      <th>2022-09-27</th>\n",
       "      <td>107.800003</td>\n",
       "      <td>107.949997</td>\n",
       "      <td>107.000000</td>\n",
       "      <td>107.500000</td>\n",
       "      <td>107.500000</td>\n",
       "      <td>8962778</td>\n",
       "    </tr>\n",
       "  </tbody>\n",
       "</table>\n",
       "</div>"
      ],
      "text/plain": [
       "                  Open        High         Low       Close   Adj Close  \\\n",
       "Date                                                                     \n",
       "2022-09-23  110.250000  110.349998  109.349998  109.699997  109.699997   \n",
       "2022-09-26  108.050003  108.050003  107.150002  107.650002  107.650002   \n",
       "2022-09-27  107.800003  107.949997  107.000000  107.500000  107.500000   \n",
       "\n",
       "              Volume  \n",
       "Date                  \n",
       "2022-09-23  14598986  \n",
       "2022-09-26  19920826  \n",
       "2022-09-27   8962778  "
      ]
     },
     "execution_count": 5,
     "metadata": {},
     "output_type": "execute_result"
    }
   ],
   "source": [
    "df2 = yf.download('0050.TW',period='60d',interval='1d') \n",
    "df2.head(3)"
   ]
  },
  {
   "cell_type": "code",
   "execution_count": 6,
   "metadata": {
    "colab": {
     "base_uri": "https://localhost:8080/",
     "height": 819
    },
    "id": "YOIHYttZa8t-",
    "outputId": "f528c170-3e66-4eaa-fe9e-ab707fd78811"
   },
   "outputs": [
    {
     "name": "stdout",
     "output_type": "stream",
     "text": [
      "[*********************100%***********************]  1 of 1 completed\n"
     ]
    },
    {
     "data": {
      "text/html": [
       "<div>\n",
       "<style scoped>\n",
       "    .dataframe tbody tr th:only-of-type {\n",
       "        vertical-align: middle;\n",
       "    }\n",
       "\n",
       "    .dataframe tbody tr th {\n",
       "        vertical-align: top;\n",
       "    }\n",
       "\n",
       "    .dataframe thead th {\n",
       "        text-align: right;\n",
       "    }\n",
       "</style>\n",
       "<table border=\"1\" class=\"dataframe\">\n",
       "  <thead>\n",
       "    <tr style=\"text-align: right;\">\n",
       "      <th></th>\n",
       "      <th>Open</th>\n",
       "      <th>High</th>\n",
       "      <th>Low</th>\n",
       "      <th>Close</th>\n",
       "      <th>Adj Close</th>\n",
       "      <th>Volume</th>\n",
       "    </tr>\n",
       "    <tr>\n",
       "      <th>Date</th>\n",
       "      <th></th>\n",
       "      <th></th>\n",
       "      <th></th>\n",
       "      <th></th>\n",
       "      <th></th>\n",
       "      <th></th>\n",
       "    </tr>\n",
       "  </thead>\n",
       "  <tbody>\n",
       "    <tr>\n",
       "      <th>2022-11-16</th>\n",
       "      <td>115.000000</td>\n",
       "      <td>115.750000</td>\n",
       "      <td>113.849998</td>\n",
       "      <td>114.500000</td>\n",
       "      <td>114.500000</td>\n",
       "      <td>23671241</td>\n",
       "    </tr>\n",
       "    <tr>\n",
       "      <th>2022-11-17</th>\n",
       "      <td>113.949997</td>\n",
       "      <td>114.650002</td>\n",
       "      <td>112.849998</td>\n",
       "      <td>114.550003</td>\n",
       "      <td>114.550003</td>\n",
       "      <td>13352418</td>\n",
       "    </tr>\n",
       "    <tr>\n",
       "      <th>2022-11-18</th>\n",
       "      <td>114.900002</td>\n",
       "      <td>115.849998</td>\n",
       "      <td>114.050003</td>\n",
       "      <td>114.250000</td>\n",
       "      <td>114.250000</td>\n",
       "      <td>10656075</td>\n",
       "    </tr>\n",
       "  </tbody>\n",
       "</table>\n",
       "</div>"
      ],
      "text/plain": [
       "                  Open        High         Low       Close   Adj Close  \\\n",
       "Date                                                                     \n",
       "2022-11-16  115.000000  115.750000  113.849998  114.500000  114.500000   \n",
       "2022-11-17  113.949997  114.650002  112.849998  114.550003  114.550003   \n",
       "2022-11-18  114.900002  115.849998  114.050003  114.250000  114.250000   \n",
       "\n",
       "              Volume  \n",
       "Date                  \n",
       "2022-11-16  23671241  \n",
       "2022-11-17  13352418  \n",
       "2022-11-18  10656075  "
      ]
     },
     "execution_count": 6,
     "metadata": {},
     "output_type": "execute_result"
    }
   ],
   "source": [
    "df3 = yf.download('0050.TW',period='1mo',interval='1d') \n",
    "df3.head(3)"
   ]
  },
  {
   "cell_type": "code",
   "execution_count": 7,
   "metadata": {
    "colab": {
     "base_uri": "https://localhost:8080/",
     "height": 472
    },
    "id": "n3XHnzfbWzRB",
    "outputId": "fca0604f-7c0e-48af-8582-7808fdeac070"
   },
   "outputs": [
    {
     "name": "stdout",
     "output_type": "stream",
     "text": [
      "[*********************100%***********************]  1 of 1 completed\n"
     ]
    },
    {
     "data": {
      "text/html": [
       "<div>\n",
       "<style scoped>\n",
       "    .dataframe tbody tr th:only-of-type {\n",
       "        vertical-align: middle;\n",
       "    }\n",
       "\n",
       "    .dataframe tbody tr th {\n",
       "        vertical-align: top;\n",
       "    }\n",
       "\n",
       "    .dataframe thead th {\n",
       "        text-align: right;\n",
       "    }\n",
       "</style>\n",
       "<table border=\"1\" class=\"dataframe\">\n",
       "  <thead>\n",
       "    <tr style=\"text-align: right;\">\n",
       "      <th></th>\n",
       "      <th>Open</th>\n",
       "      <th>High</th>\n",
       "      <th>Low</th>\n",
       "      <th>Close</th>\n",
       "      <th>Adj Close</th>\n",
       "      <th>Volume</th>\n",
       "    </tr>\n",
       "    <tr>\n",
       "      <th>Datetime</th>\n",
       "      <th></th>\n",
       "      <th></th>\n",
       "      <th></th>\n",
       "      <th></th>\n",
       "      <th></th>\n",
       "      <th></th>\n",
       "    </tr>\n",
       "  </thead>\n",
       "  <tbody>\n",
       "    <tr>\n",
       "      <th>2022-12-14 09:00:00</th>\n",
       "      <td>114.099998</td>\n",
       "      <td>114.150002</td>\n",
       "      <td>114.000000</td>\n",
       "      <td>114.150002</td>\n",
       "      <td>114.150002</td>\n",
       "      <td>0</td>\n",
       "    </tr>\n",
       "    <tr>\n",
       "      <th>2022-12-14 09:01:00</th>\n",
       "      <td>114.099998</td>\n",
       "      <td>114.199997</td>\n",
       "      <td>114.099998</td>\n",
       "      <td>114.150002</td>\n",
       "      <td>114.150002</td>\n",
       "      <td>46000</td>\n",
       "    </tr>\n",
       "    <tr>\n",
       "      <th>2022-12-14 09:02:00</th>\n",
       "      <td>114.199997</td>\n",
       "      <td>114.199997</td>\n",
       "      <td>114.099998</td>\n",
       "      <td>114.150002</td>\n",
       "      <td>114.150002</td>\n",
       "      <td>189000</td>\n",
       "    </tr>\n",
       "  </tbody>\n",
       "</table>\n",
       "</div>"
      ],
      "text/plain": [
       "                           Open        High         Low       Close  \\\n",
       "Datetime                                                              \n",
       "2022-12-14 09:00:00  114.099998  114.150002  114.000000  114.150002   \n",
       "2022-12-14 09:01:00  114.099998  114.199997  114.099998  114.150002   \n",
       "2022-12-14 09:02:00  114.199997  114.199997  114.099998  114.150002   \n",
       "\n",
       "                      Adj Close  Volume  \n",
       "Datetime                                 \n",
       "2022-12-14 09:00:00  114.150002       0  \n",
       "2022-12-14 09:01:00  114.150002   46000  \n",
       "2022-12-14 09:02:00  114.150002  189000  "
      ]
     },
     "execution_count": 7,
     "metadata": {},
     "output_type": "execute_result"
    }
   ],
   "source": [
    "df4 = yf.download('0050.TW',period='3d',interval='1m') # Specify data collected up to three days ago (3d), at a frequency of one minute\n",
    "df4.head(3)"
   ]
  },
  {
   "cell_type": "code",
   "execution_count": 8,
   "metadata": {
    "colab": {
     "base_uri": "https://localhost:8080/",
     "height": 474
    },
    "id": "MHitev8jkP-X",
    "outputId": "1380cea2-3aee-4706-bd0d-053d1bbe261a"
   },
   "outputs": [
    {
     "data": {
      "image/png": "[encoded data removed]",
      "text/plain": [
       "<Figure size 924.107x431.25 with 4 Axes>"
      ]
     },
     "metadata": {},
     "output_type": "display_data"
    }
   ],
   "source": [
    "#Draw K-line chart\n",
    "mc = mpf.make_marketcolors(up='yellow', down='blue', inherit=True) # Customize chart appearance and set k-line chart colors\n",
    "exterior = mpf.make_mpf_style(base_mpf_style='yahoo', marketcolors=mc) # Save the chart appearance\n",
    "#For detailed settings, please refer to [https://pypi.org/project/mplfinance/]\n",
    "\n",
    "#volume controls whether prices are displayed below\n",
    "k_plot = mpf.plot(df2, style=exterior, type='candle', volume=True, figratio=(30,14), figscale=0.75, title='0050.tw',)"
   ]
  },
  {
   "cell_type": "markdown",
   "metadata": {
    "id": "odARLCydOjxE"
   },
   "source": [
    "# Ta-Lib Implementation\n",
    "\n"
   ]
  },
  {
   "cell_type": "code",
   "execution_count": 9,
   "metadata": {
    "id": "V-rBv7erO3WL"
   },
   "outputs": [],
   "source": [
    "# Parameter setting: timeperiod: the number of days parameter, you can freely set the number of days, the default is 14\n",
    "\n",
    "_adx = talib.ADX(df.High, df.Low, df.Close, timeperiod = 7)\n",
    "\n",
    "_rsi = talib.RSI(df.Close,  timeperiod = 7)\n",
    "\n",
    "_dema = talib.DEMA(df.Close, timeperiod=30)"
   ]
  },
  {
   "cell_type": "code",
   "execution_count": 10,
   "metadata": {
    "colab": {
     "base_uri": "https://localhost:8080/"
    },
    "id": "ClovyS-SV8Q_",
    "outputId": "828fb438-f679-489e-efb1-48581f2955c3"
   },
   "outputs": [
    {
     "data": {
      "text/plain": [
       "Date\n",
       "2018-04-02          NaN\n",
       "2018-04-03          NaN\n",
       "2018-04-09          NaN\n",
       "2018-04-10          NaN\n",
       "2018-04-11          NaN\n",
       "                ...    \n",
       "2021-07-23    23.930631\n",
       "2021-07-26    25.923251\n",
       "2021-07-27    27.981423\n",
       "2021-07-28    32.696474\n",
       "2021-07-29    34.881715\n",
       "Length: 810, dtype: float64"
      ]
     },
     "execution_count": 10,
     "metadata": {},
     "output_type": "execute_result"
    }
   ],
   "source": [
    "# Average Directional Index (ADX)\n",
    "# ADX above 30 means the price has entered a trend. And below 30 means that the exchange rate is fluctuating within the range. When the ADX exceeds 30, the larger the reading of the ADX, the more pronounced the price trend.\n",
    "_adx"
   ]
  },
  {
   "cell_type": "code",
   "execution_count": 11,
   "metadata": {
    "colab": {
     "base_uri": "https://localhost:8080/"
    },
    "id": "lwOfSWARV-Au",
    "outputId": "b9d49346-5c52-4991-d91d-a438ea64ffd5"
   },
   "outputs": [
    {
     "data": {
      "text/plain": [
       "Date\n",
       "2018-04-02          NaN\n",
       "2018-04-03          NaN\n",
       "2018-04-09          NaN\n",
       "2018-04-10          NaN\n",
       "2018-04-11          NaN\n",
       "                ...    \n",
       "2021-07-23    43.052091\n",
       "2021-07-26    34.833045\n",
       "2021-07-27    34.512735\n",
       "2021-07-28    23.618134\n",
       "2021-07-29    44.866997\n",
       "Length: 810, dtype: float64"
      ]
     },
     "execution_count": 11,
     "metadata": {},
     "output_type": "execute_result"
    }
   ],
   "source": [
    "# Relative Strength Index (RSI)\n",
    "# The value calculated from the average increase and average decrease of a stock price, which is an indicator of the strength or weakness of a stock price during the observation period.\n",
    "# RSI = (average up/(average up + average down)) x 100\n",
    "_rsi "
   ]
  },
  {
   "cell_type": "code",
   "execution_count": 12,
   "metadata": {
    "colab": {
     "base_uri": "https://localhost:8080/"
    },
    "id": "WEI_BzO5L0yS",
    "outputId": "56ab6d0f-f480-4a13-8447-25a64e2c499d"
   },
   "outputs": [
    {
     "data": {
      "text/plain": [
       "Date\n",
       "2018-04-02           NaN\n",
       "2018-04-03           NaN\n",
       "2018-04-09           NaN\n",
       "2018-04-10           NaN\n",
       "2018-04-11           NaN\n",
       "                 ...    \n",
       "2021-07-23    138.904710\n",
       "2021-07-26    138.651695\n",
       "2021-07-27    138.414866\n",
       "2021-07-28    137.930754\n",
       "2021-07-29    137.772730\n",
       "Length: 810, dtype: float64"
      ]
     },
     "execution_count": 12,
     "metadata": {},
     "output_type": "execute_result"
    }
   ],
   "source": [
    "# Double Exponential Moving Average (DEMA)\n",
    "# DEMA = 2 * N-Day EMA - EMA of N-Day EMA \n",
    "_dema "
   ]
  },
  {
   "cell_type": "markdown",
   "metadata": {
    "id": "P7-KsmlUcNhJ"
   },
   "source": [
    "# Data Processing"
   ]
  },
  {
   "cell_type": "code",
   "execution_count": 13,
   "metadata": {
    "id": "JWoCnQgKcL9k"
   },
   "outputs": [],
   "source": [
    "# axis = 0 for Down , axis = 1 for across\n",
    "# inplace = True means operate directly from the DataFrame \n",
    "df.drop(['Open', 'High', 'Low', 'Volume','Adj Close'], axis=1, inplace=True) "
   ]
  },
  {
   "cell_type": "code",
   "execution_count": 14,
   "metadata": {
    "colab": {
     "base_uri": "https://localhost:8080/",
     "height": 455
    },
    "id": "C40IiV4ietMq",
    "outputId": "533df24a-b68a-489c-88ca-7083c28259e1"
   },
   "outputs": [
    {
     "data": {
      "text/html": [
       "<div>\n",
       "<style scoped>\n",
       "    .dataframe tbody tr th:only-of-type {\n",
       "        vertical-align: middle;\n",
       "    }\n",
       "\n",
       "    .dataframe tbody tr th {\n",
       "        vertical-align: top;\n",
       "    }\n",
       "\n",
       "    .dataframe thead th {\n",
       "        text-align: right;\n",
       "    }\n",
       "</style>\n",
       "<table border=\"1\" class=\"dataframe\">\n",
       "  <thead>\n",
       "    <tr style=\"text-align: right;\">\n",
       "      <th></th>\n",
       "      <th>Close</th>\n",
       "    </tr>\n",
       "    <tr>\n",
       "      <th>Date</th>\n",
       "      <th></th>\n",
       "    </tr>\n",
       "  </thead>\n",
       "  <tbody>\n",
       "    <tr>\n",
       "      <th>2018-04-02</th>\n",
       "      <td>82.250000</td>\n",
       "    </tr>\n",
       "    <tr>\n",
       "      <th>2018-04-03</th>\n",
       "      <td>81.500000</td>\n",
       "    </tr>\n",
       "    <tr>\n",
       "      <th>2018-04-09</th>\n",
       "      <td>82.199997</td>\n",
       "    </tr>\n",
       "  </tbody>\n",
       "</table>\n",
       "</div>"
      ],
      "text/plain": [
       "                Close\n",
       "Date                 \n",
       "2018-04-02  82.250000\n",
       "2018-04-03  81.500000\n",
       "2018-04-09  82.199997"
      ]
     },
     "execution_count": 14,
     "metadata": {},
     "output_type": "execute_result"
    }
   ],
   "source": [
    "df.head(3)"
   ]
  },
  {
   "cell_type": "markdown",
   "metadata": {
    "id": "he3Ub6ZOZNQe"
   },
   "source": [
    "Q : Diviser le dataset df en 80% d'entrainement et 20% de test "
   ]
  },
  {
   "cell_type": "code",
   "execution_count": 15,
   "metadata": {
    "colab": {
     "base_uri": "https://localhost:8080/",
     "height": 35
    },
    "id": "QTTi8be2fxPT",
    "outputId": "cce16727-688b-474e-81f3-6533c51c5fa2"
   },
   "outputs": [],
   "source": [
    "split_point = int(len(df)*0.8) \n",
    "train = df.iloc[:split_point].copy()\n",
    "test = df.iloc[split_point:].copy()\n"
   ]
  },
  {
   "cell_type": "code",
   "execution_count": 16,
   "metadata": {
    "id": "ub262gulfVu8"
   },
   "outputs": [],
   "source": [
    "# Data normalization\n",
    "scaler = MinMaxScaler(feature_range=(-1, 1))\n",
    "\n",
    "#If the data is not one-dimensional, we need to reshape the data and adjust it to (data length,1) \n",
    "\n",
    "train_set= train.values.reshape(-1,1)\n",
    "train_sc = scaler.fit_transform(train_set)\n",
    "\n",
    "test_set= test.values.reshape(-1,1)\n",
    "test_sc = scaler.fit_transform(test_set)"
   ]
  },
  {
   "cell_type": "code",
   "execution_count": 17,
   "metadata": {
    "id": "UsPEZa3pi6qO"
   },
   "outputs": [],
   "source": [
    "predict_days = 1 \n",
    "X_train = train_sc[:-predict_days]\n",
    "y_train = train_sc[predict_days:]\n",
    "X_test = test_sc[:-predict_days]\n",
    "y_test = test_sc[predict_days:]"
   ]
  },
  {
   "cell_type": "code",
   "execution_count": 18,
   "metadata": {
    "colab": {
     "base_uri": "https://localhost:8080/"
    },
    "id": "SB8lZ-AzkNmg",
    "outputId": "195b9bd7-8294-4a1b-8c91-b3d5b2f5b60c"
   },
   "outputs": [
    {
     "name": "stdout",
     "output_type": "stream",
     "text": [
      "(647, 1, 1) (647, 1) (161, 1, 1) (161, 1)\n"
     ]
    }
   ],
   "source": [
    "#Verify the shape of the dataset, it's important! \n",
    "#You can tell others the size of the training set and the dataset\n",
    "X_train = X_train.reshape((X_train.shape[0],1, X_train.shape[1]))\n",
    "X_test = X_test.reshape((X_test.shape[0],1, X_test.shape[1]))\n",
    "print(X_train.shape, y_train.shape, X_test.shape, y_test.shape)"
   ]
  },
  {
   "cell_type": "markdown",
   "metadata": {
    "id": "97_mO7Geibc1"
   },
   "source": [
    "# Build the model\n",
    "\n",
    "> Model fit tunable parameters.\n",
    ">- **epochs** (iterations): number of training sessions \n",
    ">- **batch_size** : how many data are entered at a time  \n",
    ">- **verbose** (progress bar mode): 0, 1, 2 modes to choose from\n",
    ">- **callbacks** (callback function): refer to this page [https://keras.io/zh/callbacks/]"
   ]
  },
  {
   "cell_type": "code",
   "execution_count": 19,
   "metadata": {
    "colab": {
     "base_uri": "https://localhost:8080/"
    },
    "id": "qr-0r8p6kTJe",
    "outputId": "219a6f04-5a04-4701-836e-2880120d93b1"
   },
   "outputs": [
    {
     "name": "stdout",
     "output_type": "stream",
     "text": [
      "Epoch 1/20\n",
      "647/647 - 5s - loss: 0.0498 - accuracy: 0.0031 - 5s/epoch - 7ms/step\n",
      "Epoch 2/20\n",
      "647/647 - 2s - loss: 0.0034 - accuracy: 0.0031 - 2s/epoch - 3ms/step\n",
      "Epoch 3/20\n",
      "647/647 - 2s - loss: 0.0033 - accuracy: 0.0031 - 2s/epoch - 3ms/step\n",
      "Epoch 4/20\n",
      "647/647 - 2s - loss: 0.0035 - accuracy: 0.0031 - 2s/epoch - 3ms/step\n",
      "Epoch 5/20\n",
      "647/647 - 2s - loss: 0.0031 - accuracy: 0.0031 - 2s/epoch - 3ms/step\n",
      "Epoch 6/20\n",
      "647/647 - 2s - loss: 0.0030 - accuracy: 0.0031 - 2s/epoch - 3ms/step\n",
      "Epoch 7/20\n",
      "647/647 - 2s - loss: 0.0034 - accuracy: 0.0031 - 2s/epoch - 3ms/step\n",
      "Epoch 8/20\n",
      "647/647 - 2s - loss: 0.0032 - accuracy: 0.0031 - 2s/epoch - 3ms/step\n",
      "Epoch 8: early stopping\n"
     ]
    }
   ],
   "source": [
    "# Build LSTM model\n",
    "model = Sequential()\n",
    "\n",
    "# Add LSTM layer with 50 units, not returning sequences, and input shape of (X_train.shape[1], 1)\n",
    "model.add(LSTM(units=50, return_sequences=False, input_shape=(X_train.shape[1], 1)))\n",
    "\n",
    "# Add dropout layer with forgetting rate of 0.2\n",
    "model.add(Dropout(0.2))\n",
    "\n",
    "# Add output layer with 1 unit\n",
    "model.add(Dense(1))\n",
    "\n",
    "# Compile model with mean squared error loss, Adam optimizer, and accuracy metric\n",
    "model.compile(loss='mean_squared_error', optimizer='adam', metrics=['accuracy'])\n",
    "\n",
    "# Use EarlyStopping to stop training when the loss stops improving\n",
    "early_stop = EarlyStopping(monitor='loss', patience=2, verbose=1)\n",
    "\n",
    "# Fit model on training data, using a batch size of 1, and using the EarlyStopping callback\n",
    "history = model.fit(X_train, y_train, epochs=20, batch_size=1, verbose=2, shuffle=True, callbacks=[early_stop])\n"
   ]
  },
  {
   "cell_type": "markdown",
   "metadata": {
    "id": "O6y0_BD2ws5v"
   },
   "source": [
    "# Model training visualization"
   ]
  },
  {
   "cell_type": "code",
   "execution_count": 20,
   "metadata": {
    "colab": {
     "base_uri": "https://localhost:8080/"
    },
    "id": "5nhUSM4zRkrq",
    "outputId": "d2d1db5a-9e13-4da6-b2fd-eba3f3a255f5"
   },
   "outputs": [
    {
     "name": "stdout",
     "output_type": "stream",
     "text": [
      "Model: \"sequential\"\n",
      "_________________________________________________________________\n",
      " Layer (type)                Output Shape              Param #   \n",
      "=================================================================\n",
      " lstm (LSTM)                 (None, 50)                10400     \n",
      "                                                                 \n",
      " dropout (Dropout)           (None, 50)                0         \n",
      "                                                                 \n",
      " dense (Dense)               (None, 1)                 51        \n",
      "                                                                 \n",
      "=================================================================\n",
      "Total params: 10,451\n",
      "Trainable params: 10,451\n",
      "Non-trainable params: 0\n",
      "_________________________________________________________________\n"
     ]
    }
   ],
   "source": [
    "model.summary()"
   ]
  },
  {
   "cell_type": "code",
   "execution_count": 21,
   "metadata": {
    "colab": {
     "base_uri": "https://localhost:8080/",
     "height": 369
    },
    "id": "JzfmjMsNRsYj",
    "outputId": "eab059b8-bb57-49a5-ef38-355646b6b8b5"
   },
   "outputs": [
    {
     "name": "stdout",
     "output_type": "stream",
     "text": [
      "You must install pydot (`pip install pydot`) and install graphviz (see instructions at https://graphviz.gitlab.io/download/) for plot_model to work.\n"
     ]
    }
   ],
   "source": [
    "plot_model(model, 'model.png')"
   ]
  },
  {
   "cell_type": "code",
   "execution_count": 22,
   "metadata": {
    "colab": {
     "base_uri": "https://localhost:8080/",
     "height": 447
    },
    "id": "uZciZ4EruQqi",
    "outputId": "9e65cfc6-9457-4b00-dee5-3f5d999bd838"
   },
   "outputs": [
    {
     "data": {
      "text/plain": [
       "[<matplotlib.lines.Line2D at 0x137f44832b0>]"
      ]
     },
     "execution_count": 22,
     "metadata": {},
     "output_type": "execute_result"
    },
    {
     "data": {
      "image/png": "[encoded data removed]",
      "text/plain": [
       "<Figure size 640x480 with 1 Axes>"
      ]
     },
     "metadata": {},
     "output_type": "display_data"
    }
   ],
   "source": [
    "plt.plot(history.history['loss'])"
   ]
  },
  {
   "cell_type": "code",
   "execution_count": 24,
   "metadata": {
    "colab": {
     "base_uri": "https://localhost:8080/",
     "height": 447
    },
    "id": "I84RoQxxvTiC",
    "outputId": "365f7432-26ca-4105-b5ad-58d252541220"
   },
   "outputs": [
    {
     "data": {
      "text/plain": [
       "[<matplotlib.lines.Line2D at 0x137f44b1b50>]"
      ]
     },
     "execution_count": 24,
     "metadata": {},
     "output_type": "execute_result"
    },
    {
     "data": {
      "image/png": "[encoded data removed]",
      "text/plain": [
       "<Figure size 640x480 with 1 Axes>"
      ]
     },
     "metadata": {},
     "output_type": "display_data"
    }
   ],
   "source": [
    "plt.plot(history.history['accuracy'])"
   ]
  },
  {
   "cell_type": "markdown",
   "metadata": {
    "id": "a7kNCuauwxIg"
   },
   "source": [
    "# Model Prediction"
   ]
  },
  {
   "cell_type": "code",
   "execution_count": 26,
   "metadata": {
    "colab": {
     "base_uri": "https://localhost:8080/",
     "height": 564
    },
    "id": "ATto2DLWkX3G",
    "outputId": "7a402159-a04c-4b81-ef9f-0c8b3b9c251b"
   },
   "outputs": [
    {
     "name": "stdout",
     "output_type": "stream",
     "text": [
      "6/6 [==============================] - 1s 3ms/step\n"
     ]
    },
    {
     "data": {
      "image/png": "[encoded data removed]",
      "text/plain": [
       "<Figure size 800x400 with 1 Axes>"
      ]
     },
     "metadata": {},
     "output_type": "display_data"
    }
   ],
   "source": [
    "\n",
    "# Make predictions on the test data using the LSTM model\n",
    "y_pred_test_lstm = model.predict(X_test)\n",
    "\n",
    "# Create a figure with a specific figure size\n",
    "fig = plt.figure(figsize=(8, 4))\n",
    "\n",
    "# Plot the true values of the target variable in the test set\n",
    "plt.plot(y_test[:,0], label='Close')\n",
    "\n",
    "# Plot the predicted values\n",
    "plt.plot(y_pred_test_lstm, label='LSTM')\n",
    "\n",
    "# Add a title, x-axis label, and y-axis label to the plot\n",
    "plt.title(\"LSTM's Prediction\")\n",
    "plt.xlabel('Observation')\n",
    "plt.ylabel('Close')\n",
    "\n",
    "# Add a legend to distinguish the true values and the predicted values\n",
    "plt.legend()\n",
    "\n",
    "# Display the plot\n",
    "plt.show()"
   ]
  },
  {
   "cell_type": "code",
   "execution_count": 27,
   "metadata": {
    "id": "uQevnySYl52H"
   },
   "outputs": [],
   "source": [
    "# Restore the normalized data\n",
    "reduction_Lstm_pred = scaler.inverse_transform(y_pred_test_lstm)\n",
    "reduction_test = df.iloc[split_point:].copy()\n",
    "reduction_y_test = reduction_test[predict_days:]"
   ]
  },
  {
   "cell_type": "markdown",
   "metadata": {
    "id": "o85zuSrDZNQk"
   },
   "source": [
    "# Model evaluation"
   ]
  },
  {
   "cell_type": "markdown",
   "metadata": {
    "id": "v0B67kmPZNQl"
   },
   "source": [
    "There are three common error metrics used to evaluate and report the performance of a regression model: Mean Squared Error (MSE), Root Mean Squared Error (RMSE), and Mean Absolute Error (MAE).\""
   ]
  },
  {
   "cell_type": "code",
   "execution_count": null,
   "metadata": {
    "colab": {
     "base_uri": "https://localhost:8080/"
    },
    "id": "6f1uRm5ul7nr",
    "outputId": "e90d6c0b-56ba-4b01-c6a1-a0784bf9a884",
    "scrolled": false
   },
   "outputs": [
    {
     "name": "stdout",
     "output_type": "stream",
     "text": [
      "Mean Absolute Error: 1.2518793899820457\n",
      "Mean Squared Error: 2.898456343312268\n",
      "Root Mean Squared Error: 1.7024853430535805\n",
      "Coefficient of Determination: 0.9439186962991296\n"
     ]
    }
   ],
   "source": [
    "print(\"Mean Absolute Error:\", mean_absolute_error(reduction_y_test, reduction_Lstm_pred))\n",
    "print('Mean Squared Error:', mean_squared_error(reduction_y_test, reduction_Lstm_pred))\n",
    "print('Root Mean Squared Error:', sqrt(mean_squared_error(reduction_y_test, reduction_Lstm_pred)))\n",
    "print(\"Coefficient of Determination:\", r2_score(reduction_y_test, reduction_Lstm_pred))"
   ]
  },
  {
   "cell_type": "markdown",
   "metadata": {
    "id": "7hcj4ADtZNQm"
   },
   "source": [
    "The Mean Absolute Error (MAE) of 1.25 indicates that, on average, the model is off by about 1.25 units. The Mean Squared Error (MSE) of 2.90 indicates that the model's errors are generally more severe, as the square of the errors are used in the calculation. The Root Mean Squared Error (RMSE) of 1.70 is the square root of the MSE and gives a more interpretable error measure in the same units as the target variable.\n",
    "\n",
    "The Coefficient of Determination (R^2) of 0.94 indicates that the model explains about 94% of the variance in the target variable. An R^2 value of 1.0 indicates a perfect fit, while an R^2 value of 0 indicates that the model does not explain any of the variance in the target variable.\n",
    "\n",
    "Overall, the model appears to have good performance, with relatively low error and a high R^2 value."
   ]
  }
 ],
 "metadata": {
  "accelerator": "GPU",
  "colab": {
   "name": "股市資料爬蟲 + LSTM預測.ipynb",
   "provenance": []
  },
  "kernelspec": {
   "display_name": "Python 3 (ipykernel)",
   "language": "python",
   "name": "python3"
  },
  "language_info": {
   "codemirror_mode": {
    "name": "ipython",
    "version": 3
   },
   "file_extension": ".py",
   "mimetype": "text/x-python",
   "name": "python",
   "nbconvert_exporter": "python",
   "pygments_lexer": "ipython3",
   "version": "3.9.13"
  }
 },
 "nbformat": 4,
 "nbformat_minor": 1
}
